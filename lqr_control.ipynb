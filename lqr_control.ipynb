{
  "cells": [
    {
      "cell_type": "markdown",
      "metadata": {
        "id": "view-in-github",
        "colab_type": "text"
      },
      "source": [
        "<a href=\"https://colab.research.google.com/github/Shoaib3786/Control-Systems/blob/main/lqr_control.ipynb\" target=\"_parent\"><img src=\"https://colab.research.google.com/assets/colab-badge.svg\" alt=\"Open In Colab\"/></a>"
      ]
    },
    {
      "cell_type": "markdown",
      "id": "b1b02b69",
      "metadata": {
        "id": "b1b02b69"
      },
      "source": [
        "# LQR Controller — Homework Notebook\n",
        "This notebook guides you through implementing a Linear Quadratic Regulator (LQR) to stabilize a discrete-time linear system.\n",
        "You will complete the missing parts marked as `# TODO`.\n",
        "---"
      ]
    },
    {
      "cell_type": "markdown",
      "id": "85440e34",
      "metadata": {
        "id": "85440e34"
      },
      "source": [
        "## LQR Theory\n",
        "The Linear Quadratic Regulator solves the optimal control problem for a discrete-time linear time-invariant (LTI) system:\n",
        "\n",
        "$\n",
        "x_{k+1} = A x_k + B u_k\n",
        "$\n",
        "\n",
        "with the infinite-horizon cost function:\n",
        "\n",
        "$\n",
        "J = \\sum_{k=0}^\\infty \\left( x_k^\\top Q x_k + u_k^\\top R u_k \\right)\n",
        "$\n",
        "\n",
        "The optimal control law is:\n",
        "$\n",
        "u_k = -K x_k\n",
        "$\n",
        "where $ K = (R + B^\\top P B)^{-1} B^\\top P A $, and $ P $ is the solution of the Discrete Algebraic Riccati Equation (DARE):\n",
        "\n",
        "$\n",
        "P = A^\\top P A - A^\\top P B (R + B^\\top P B)^{-1} B^\\top P A + Q\n",
        "$\n",
        "\n",
        "This ensures asymptotic stability when $ (A,B) $ is controllable and $ Q \\succeq 0, R \\succ 0 $."
      ]
    },
    {
      "cell_type": "code",
      "execution_count": null,
      "id": "d7d2afd8",
      "metadata": {
        "id": "d7d2afd8"
      },
      "outputs": [],
      "source": [
        "import numpy as np\n",
        "import matplotlib.pyplot as plt\n",
        "from scipy.linalg import solve_discrete_are"
      ]
    },
    {
      "cell_type": "code",
      "execution_count": null,
      "id": "3a89763e",
      "metadata": {
        "id": "3a89763e"
      },
      "outputs": [],
      "source": [
        "# TODO: Define system matrices for a discrete-time LTI system\n",
        "# Example: simple 2D system\n",
        "# A = ...\n",
        "# B = ...\n",
        "\n",
        "# Choose cost weights\n",
        "# Q = ...\n",
        "# R = ..."
      ]
    },
    {
      "cell_type": "code",
      "execution_count": null,
      "id": "de90a583",
      "metadata": {
        "id": "de90a583"
      },
      "outputs": [],
      "source": [
        "# TODO: Solve DARE and compute LQR gain K\n",
        "# P = continious discrete transition\n",
        "# K = Solve Ricatti equation"
      ]
    },
    {
      "cell_type": "code",
      "execution_count": null,
      "id": "54a74f85",
      "metadata": {
        "id": "54a74f85"
      },
      "outputs": [],
      "source": [
        "# TODO: Simulate the closed-loop system\n",
        "T = 50  # time steps\n",
        "x = np.array([[2.0], [-1.0]])  # initial state\n",
        "x_hist = [x.copy()]\n",
        "\n",
        "for _ in range(T):\n",
        "    # u = ...\n",
        "    # x = ...\n",
        "    x_hist.append(x.copy())\n",
        "\n",
        "x_hist = np.hstack(x_hist)"
      ]
    },
    {
      "cell_type": "code",
      "execution_count": null,
      "id": "bc36f6a4",
      "metadata": {
        "id": "bc36f6a4"
      },
      "outputs": [],
      "source": [
        "plt.figure(figsize=(8,4))\n",
        "plt.plot(x_hist[0,:], label='$x_1$')\n",
        "plt.plot(x_hist[1,:], label='$x_2$')\n",
        "plt.axhline(0, color='gray', linestyle='--')\n",
        "plt.title('LQR State Stabilization')\n",
        "plt.xlabel('Time step')\n",
        "plt.ylabel('State')\n",
        "plt.grid(True)\n",
        "plt.legend()\n",
        "plt.tight_layout()\n",
        "plt.show()"
      ]
    },
    {
      "cell_type": "code",
      "source": [
        "from IPython.display import HTML\n",
        "\n",
        "fig, ax = plt.subplots(figsize=(6, 6))\n",
        "ax.set_xlim(-2.5, 2.5)\n",
        "ax.set_ylim(-2.5, 2.5)\n",
        "ax.set_xlabel('$x_1$')\n",
        "ax.set_ylabel('$x_2$')\n",
        "ax.grid(True)\n",
        "line, = ax.plot([], [], 'r-', lw=2, label='Trajectory')\n",
        "point, = ax.plot([], [], 'ro')\n",
        "ax.legend()\n",
        "\n",
        "def init():\n",
        "    line.set_data([], [])\n",
        "    point.set_data([], [])\n",
        "    return line, point\n",
        "\n",
        "def update(frame):\n",
        "    if frame < 2:\n",
        "        line.set_data([], [])\n",
        "        point.set_data([], [])\n",
        "    else:\n",
        "        line.set_data(list(x_hist[0, :frame]), list(x_hist[1, :frame]))\n",
        "        point.set_data([x_hist[0, frame]], [x_hist[1, frame]])\n",
        "    return line, point\n",
        "\n",
        "ani = FuncAnimation(fig, update, frames=T, init_func=init, blit=True)\n",
        "HTML(ani.to_html5_video())"
      ],
      "metadata": {
        "id": "e2DOGH0CTfGN"
      },
      "id": "e2DOGH0CTfGN",
      "execution_count": null,
      "outputs": []
    }
  ],
  "metadata": {
    "colab": {
      "provenance": [],
      "include_colab_link": true
    }
  },
  "nbformat": 4,
  "nbformat_minor": 5
}