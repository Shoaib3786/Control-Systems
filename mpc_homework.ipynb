{
  "cells": [
    {
      "cell_type": "markdown",
      "metadata": {
        "id": "view-in-github",
        "colab_type": "text"
      },
      "source": [
        "<a href=\"https://colab.research.google.com/github/Shoaib3786/Control-Systems/blob/main/mpc_homework.ipynb\" target=\"_parent\"><img src=\"https://colab.research.google.com/assets/colab-badge.svg\" alt=\"Open In Colab\"/></a>"
      ]
    },
    {
      "cell_type": "markdown",
      "id": "5dd1f499",
      "metadata": {
        "id": "5dd1f499"
      },
      "source": [
        "# Model Predictive Control (MPC)\n",
        "In this exercise, you will implement a finite-horizon MPC controller for a linear system with state and input constraints.\n",
        "Complete the `# TODO` sections in the code cells. Use the theory provided below as a guide.\n",
        "---"
      ]
    },
    {
      "cell_type": "markdown",
      "id": "b8433676",
      "metadata": {
        "id": "b8433676"
      },
      "source": [
        "## MPC Theory\n",
        "We consider a linear time-invariant system:\n",
        "$ x_{k+1} = A x_k + B u_k $\n",
        "\n",
        "The finite-horizon MPC problem solves:\n",
        "$\n",
        "\\min_{u_0, ..., u_{N-1}} \\sum_{t=0}^{N-1} \\left( x_t^\\top Q x_t + u_t^\\top R u_t \\right) + x_N^\\top Q_f x_N\n",
        "$\n",
        "subject to:\n",
        "- system dynamics: $ x_{t+1} = A x_t + B u_t $\n",
        "- input constraints: $ u_{min} \\leq u_t \\leq u_{max} $\n",
        "- state constraints: $ x_{min} \\leq x_t \\leq x_{max} $\n",
        "- terminal constraint: $ x_N \\in \\mathcal{X}_f $\n",
        "\n",
        "\n",
        "##  How to Use `cvxpy` for MPC\n",
        "\n",
        "This section provides practical guidance for implementing Model Predictive Control (MPC) using the `cvxpy` library, which is a powerful Python framework for convex optimization.\n",
        "\n",
        "You are solving a **finite-horizon optimal control problem**:\n",
        "\n",
        "### 1. Problem Formulation\n",
        "\n",
        "We are given a linear time-invariant system:\n",
        "\n",
        "$\n",
        "x_{k+1} = A x_k + B u_k\n",
        "$\n",
        "\n",
        "and a cost function:\n",
        "\n",
        "$\n",
        "J = \\sum_{k=0}^{N-1} \\left( x_k^T Q x_k + u_k^T R u_k \\right) + x_N^T Q_f x_N\n",
        "$\n",
        "\n",
        "subject to:\n",
        "- system dynamics\n",
        "- bounds on \\( x_k \\) (state) and \\( u_k \\) (control input)\n",
        "\n",
        "---\n",
        "\n",
        "### 2. What is `cvxpy`?\n",
        "\n",
        "`cvxpy` is a Python library for formulating and solving **convex optimization problems**. You define:\n",
        "- **variables**: e.g. `x = cp.Variable(...)`\n",
        "- **constraints**: list of conditions like `x >= xmin`\n",
        "- **objective**: a convex expression to minimize\n",
        "\n",
        "Then you define a problem using:\n",
        "\n",
        "```python\n",
        "problem = cp.Problem(cp.Minimize(objective), constraints)\n",
        "problem.solve()\n"
      ]
    },
    {
      "cell_type": "code",
      "execution_count": null,
      "id": "240e91b5",
      "metadata": {
        "id": "240e91b5"
      },
      "outputs": [],
      "source": [
        "import numpy as np\n",
        "import matplotlib.pyplot as plt\n",
        "import cvxpy as cp\n",
        "from IPython.display import HTML\n",
        "from matplotlib.animation import FuncAnimation"
      ]
    },
    {
      "cell_type": "code",
      "execution_count": null,
      "id": "41430af5",
      "metadata": {
        "id": "41430af5"
      },
      "outputs": [],
      "source": [
        "# Define system and MPC horizon\n",
        "# TODO: fill in system matrices\n",
        "# A = ...\n",
        "# B = ...\n",
        "# Q = ...\n",
        "# R = ...\n",
        "# Qf = ...\n",
        "# N = 10  # horizon\n",
        "# T = 100  # total simulation time"
      ]
    },
    {
      "cell_type": "code",
      "execution_count": null,
      "id": "e5553a2e",
      "metadata": {
        "id": "e5553a2e"
      },
      "outputs": [],
      "source": [
        "# TODO: Implement MPC controller with constraints\n",
        "# Use cp.quad_form(...) for cost terms\n",
        "def solve_mpc(x0):\n",
        "    # x0 = np.reshape(x0, (2,))\n",
        "    # x = cp.Variable((2, N + 1))\n",
        "    # u = cp.Variable((1, N))\n",
        "\n",
        "    # Define constraints (state and input bounds)\n",
        "    # umin, umax = -NaN, NaN\n",
        "    # xmin = np.array([-3.0, -2.0])\n",
        "    # xmax = np.array([3.0, 2.0])\n",
        "\n",
        "    # cost = 0\n",
        "    # constr = [x[:, 0] == x0]\n",
        "\n",
        "    # for t in range(N):\n",
        "    #     cost += cp.quad_form(...)\n",
        "    #     constr += [... dynamics ...]\n",
        "    #     constr += [... input constraints ...]\n",
        "    #     constr += [... state constraints ...]\n",
        "\n",
        "    # cost += cp.quad_form(... terminal cost ...)\n",
        "    # constr += [... optional terminal constraint ...]\n",
        "\n",
        "    prob = cp.Problem(cp.Minimize(cost), constr)\n",
        "    prob.solve(solver=cp.OSQP)\n",
        "    return u[:, 0].value if u[:, 0].value is not None else np.zeros((1,))"
      ]
    },
    {
      "cell_type": "code",
      "execution_count": null,
      "id": "de74a278",
      "metadata": {
        "id": "de74a278"
      },
      "outputs": [],
      "source": [
        "x = np.array([[2.0], [-1.0]])  # shape (2,1)\n",
        "x_hist = [x.copy()]\n",
        "u_hist = []\n",
        "\n",
        "for _ in range(T):\n",
        "    u = solve_mpc(x)\n",
        "    u = np.reshape(u, (1, 1))  # ensure u is column vector\n",
        "    x = A @ x + B @ u\n",
        "    x_hist.append(x.copy())\n",
        "    u_hist.append(u.item())\n",
        "\n",
        "x_hist = np.hstack(x_hist)\n",
        "u_hist = np.array(u_hist)"
      ]
    },
    {
      "cell_type": "code",
      "execution_count": null,
      "id": "e26ed1ec",
      "metadata": {
        "id": "e26ed1ec"
      },
      "outputs": [],
      "source": [
        "plt.figure(figsize=(10, 4))\n",
        "plt.plot(x_hist[0, :], label='$x_1$ (position)')\n",
        "plt.plot(x_hist[1, :], label='$x_2$ (velocity)')\n",
        "plt.axhline(0, color='gray', linestyle='--')\n",
        "plt.title('MPC State Stabilization')\n",
        "plt.xlabel('Time step')\n",
        "plt.ylabel('State')\n",
        "plt.grid(True)\n",
        "plt.legend()\n",
        "plt.tight_layout()\n",
        "plt.show()"
      ]
    },
    {
      "cell_type": "code",
      "execution_count": null,
      "id": "f2140695",
      "metadata": {
        "id": "f2140695"
      },
      "outputs": [],
      "source": [
        "fig, ax = plt.subplots(figsize=(6, 6))\n",
        "ax.set_xlim(-2.5, 2.5)\n",
        "ax.set_ylim(-2.5, 2.5)\n",
        "ax.set_xlabel('$x_1$')\n",
        "ax.set_ylabel('$x_2$')\n",
        "ax.grid(True)\n",
        "line, = ax.plot([], [], 'b-', lw=2, label='Trajectory')\n",
        "point, = ax.plot([], [], 'bo')\n",
        "ax.legend()\n",
        "\n",
        "def init():\n",
        "    line.set_data([], [])\n",
        "    point.set_data([], [])\n",
        "    return line, point\n",
        "\n",
        "def update(frame):\n",
        "    if frame < 2:\n",
        "        line.set_data([], [])\n",
        "        point.set_data([], [])\n",
        "    else:\n",
        "        line.set_data(list(x_hist[0, :frame]), list(x_hist[1, :frame]))\n",
        "        point.set_data([x_hist[0, frame]], [x_hist[1, frame]])\n",
        "    return line, point\n",
        "\n",
        "ani = FuncAnimation(fig, update, frames=T, init_func=init, blit=True)\n",
        "HTML(ani.to_html5_video())"
      ]
    }
  ],
  "metadata": {
    "colab": {
      "provenance": [],
      "include_colab_link": true
    },
    "language_info": {
      "name": "python"
    },
    "kernelspec": {
      "name": "python3",
      "display_name": "Python 3"
    }
  },
  "nbformat": 4,
  "nbformat_minor": 5
}